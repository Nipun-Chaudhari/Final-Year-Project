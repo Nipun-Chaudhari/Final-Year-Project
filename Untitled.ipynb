{
 "cells": [
  {
   "cell_type": "code",
   "execution_count": 64,
   "id": "aaf72336",
   "metadata": {},
   "outputs": [],
   "source": [
    "import pandas as pd\n",
    "import sklearn\n",
    "from sklearn.model_selection import train_test_split\n",
    "from sklearn.linear_model import LogisticRegression\n",
    "from sklearn.pipeline import Pipeline\n",
    "from sklearn.feature_extraction.text import CountVectorizer,TfidfTransformer"
   ]
  },
  {
   "cell_type": "code",
   "execution_count": 65,
   "id": "926159a6",
   "metadata": {},
   "outputs": [],
   "source": [
    "df = pd.read_csv('data.csv')"
   ]
  },
  {
   "cell_type": "code",
   "execution_count": 73,
   "id": "986f1476",
   "metadata": {},
   "outputs": [],
   "source": [
    "cols = df.columns"
   ]
  },
  {
   "cell_type": "code",
   "execution_count": 75,
   "id": "5a07b21d",
   "metadata": {},
   "outputs": [
    {
     "name": "stdout",
     "output_type": "stream",
     "text": [
      "Unnamed: 0  :  0\n",
      "category  :  0\n",
      "rating  :  0\n",
      "label  :  0\n",
      "text_  :  1\n",
      "length  :  0\n"
     ]
    }
   ],
   "source": [
    "for col in cols:\n",
    "    print(col, ' : ',df[col].isna().sum() )"
   ]
  },
  {
   "cell_type": "code",
   "execution_count": 78,
   "id": "e1200181",
   "metadata": {},
   "outputs": [
    {
     "data": {
      "text/plain": [
       "0         love well made sturdi comfort love itveri pretti\n",
       "1             love great upgrad origin ive mine coupl year\n",
       "2                   pillow save back love look feel pillow\n",
       "3                      miss inform use great product price\n",
       "4                      nice set good qualiti set two month\n",
       "                               ...                        \n",
       "40427    read review say bra ran small order two band c...\n",
       "40428    wasnt sure exactli would littl larg small size...\n",
       "40429    wear hood wear hood wear jacket without hood s...\n",
       "40430    like noth dress reason gave star order size fi...\n",
       "40431    work wed industri work long day foot outsid he...\n",
       "Name: text_, Length: 40432, dtype: object"
      ]
     },
     "execution_count": 78,
     "metadata": {},
     "output_type": "execute_result"
    }
   ],
   "source": [
    "df['text_'].fillna(' ')"
   ]
  },
  {
   "cell_type": "code",
   "execution_count": 79,
   "id": "bc24ca55",
   "metadata": {},
   "outputs": [
    {
     "name": "stdout",
     "output_type": "stream",
     "text": [
      "Unnamed: 0  :  0\n",
      "category  :  0\n",
      "rating  :  0\n",
      "label  :  0\n",
      "text_  :  1\n",
      "length  :  0\n"
     ]
    }
   ],
   "source": [
    "for col in cols:\n",
    "    print(col, ' : ',df[col].isna().sum() )"
   ]
  },
  {
   "cell_type": "code",
   "execution_count": 80,
   "id": "2695a5f4",
   "metadata": {},
   "outputs": [
    {
     "data": {
      "text/html": [
       "<div>\n",
       "<style scoped>\n",
       "    .dataframe tbody tr th:only-of-type {\n",
       "        vertical-align: middle;\n",
       "    }\n",
       "\n",
       "    .dataframe tbody tr th {\n",
       "        vertical-align: top;\n",
       "    }\n",
       "\n",
       "    .dataframe thead th {\n",
       "        text-align: right;\n",
       "    }\n",
       "</style>\n",
       "<table border=\"1\" class=\"dataframe\">\n",
       "  <thead>\n",
       "    <tr style=\"text-align: right;\">\n",
       "      <th></th>\n",
       "      <th>Unnamed: 0</th>\n",
       "      <th>category</th>\n",
       "      <th>rating</th>\n",
       "      <th>label</th>\n",
       "      <th>text_</th>\n",
       "      <th>length</th>\n",
       "    </tr>\n",
       "  </thead>\n",
       "  <tbody>\n",
       "    <tr>\n",
       "      <th>37914</th>\n",
       "      <td>37914</td>\n",
       "      <td>Clothing_Shoes_and_Jewelry_5</td>\n",
       "      <td>4</td>\n",
       "      <td>fake</td>\n",
       "      <td>NaN</td>\n",
       "      <td>0</td>\n",
       "    </tr>\n",
       "  </tbody>\n",
       "</table>\n",
       "</div>"
      ],
      "text/plain": [
       "       Unnamed: 0                      category  rating label text_  length\n",
       "37914       37914  Clothing_Shoes_and_Jewelry_5       4  fake   NaN       0"
      ]
     },
     "execution_count": 80,
     "metadata": {},
     "output_type": "execute_result"
    }
   ],
   "source": [
    "df.loc[df['text_'].isna()]"
   ]
  },
  {
   "cell_type": "code",
   "execution_count": 84,
   "id": "e90e7ad1",
   "metadata": {},
   "outputs": [
    {
     "data": {
      "text/plain": [
       "0         love well made sturdi comfort love itveri pretti\n",
       "1             love great upgrad origin ive mine coupl year\n",
       "2                   pillow save back love look feel pillow\n",
       "3                      miss inform use great product price\n",
       "4                      nice set good qualiti set two month\n",
       "                               ...                        \n",
       "40427    read review say bra ran small order two band c...\n",
       "40428    wasnt sure exactli would littl larg small size...\n",
       "40429    wear hood wear hood wear jacket without hood s...\n",
       "40430    like noth dress reason gave star order size fi...\n",
       "40431    work wed industri work long day foot outsid he...\n",
       "Name: text_, Length: 40431, dtype: object"
      ]
     },
     "execution_count": 84,
     "metadata": {},
     "output_type": "execute_result"
    }
   ],
   "source": [
    "df['text_'].dropna()"
   ]
  },
  {
   "cell_type": "code",
   "execution_count": 101,
   "id": "269c86c4",
   "metadata": {},
   "outputs": [
    {
     "data": {
      "text/html": [
       "<div>\n",
       "<style scoped>\n",
       "    .dataframe tbody tr th:only-of-type {\n",
       "        vertical-align: middle;\n",
       "    }\n",
       "\n",
       "    .dataframe tbody tr th {\n",
       "        vertical-align: top;\n",
       "    }\n",
       "\n",
       "    .dataframe thead th {\n",
       "        text-align: right;\n",
       "    }\n",
       "</style>\n",
       "<table border=\"1\" class=\"dataframe\">\n",
       "  <thead>\n",
       "    <tr style=\"text-align: right;\">\n",
       "      <th></th>\n",
       "      <th>Unnamed: 0</th>\n",
       "      <th>category</th>\n",
       "      <th>rating</th>\n",
       "      <th>label</th>\n",
       "      <th>text_</th>\n",
       "      <th>length</th>\n",
       "    </tr>\n",
       "  </thead>\n",
       "  <tbody>\n",
       "  </tbody>\n",
       "</table>\n",
       "</div>"
      ],
      "text/plain": [
       "Empty DataFrame\n",
       "Columns: [Unnamed: 0, category, rating, label, text_, length]\n",
       "Index: []"
      ]
     },
     "execution_count": 101,
     "metadata": {},
     "output_type": "execute_result"
    }
   ],
   "source": [
    "df.loc[df['text_'].isna()]"
   ]
  },
  {
   "cell_type": "code",
   "execution_count": 87,
   "id": "95d56482",
   "metadata": {},
   "outputs": [
    {
     "data": {
      "text/plain": [
       "'soooooooo beauti love gold version last year paint start chip go last lifetim okay price right beauti'"
      ]
     },
     "execution_count": 87,
     "metadata": {},
     "output_type": "execute_result"
    }
   ],
   "source": [
    "df['text_'][21654]"
   ]
  },
  {
   "cell_type": "code",
   "execution_count": 88,
   "id": "56e973e1",
   "metadata": {},
   "outputs": [
    {
     "name": "stderr",
     "output_type": "stream",
     "text": [
      "C:\\Users\\DELL\\AppData\\Local\\Temp/ipykernel_9244/142577206.py:1: SettingWithCopyWarning: \n",
      "A value is trying to be set on a copy of a slice from a DataFrame\n",
      "\n",
      "See the caveats in the documentation: https://pandas.pydata.org/pandas-docs/stable/user_guide/indexing.html#returning-a-view-versus-a-copy\n",
      "  df['text_'][37914] = 'soooooooo beauti love gold version last year paint start chip go last lifetim okay price right beauti'\n"
     ]
    }
   ],
   "source": [
    "df['text_'][37914] = 'soooooooo beauti love gold version last year paint start chip go last lifetim okay price right beauti'"
   ]
  },
  {
   "cell_type": "code",
   "execution_count": 89,
   "id": "90a05a72",
   "metadata": {},
   "outputs": [
    {
     "data": {
      "text/html": [
       "<div>\n",
       "<style scoped>\n",
       "    .dataframe tbody tr th:only-of-type {\n",
       "        vertical-align: middle;\n",
       "    }\n",
       "\n",
       "    .dataframe tbody tr th {\n",
       "        vertical-align: top;\n",
       "    }\n",
       "\n",
       "    .dataframe thead th {\n",
       "        text-align: right;\n",
       "    }\n",
       "</style>\n",
       "<table border=\"1\" class=\"dataframe\">\n",
       "  <thead>\n",
       "    <tr style=\"text-align: right;\">\n",
       "      <th></th>\n",
       "      <th>Unnamed: 0</th>\n",
       "      <th>category</th>\n",
       "      <th>rating</th>\n",
       "      <th>label</th>\n",
       "      <th>text_</th>\n",
       "      <th>length</th>\n",
       "    </tr>\n",
       "  </thead>\n",
       "  <tbody>\n",
       "  </tbody>\n",
       "</table>\n",
       "</div>"
      ],
      "text/plain": [
       "Empty DataFrame\n",
       "Columns: [Unnamed: 0, category, rating, label, text_, length]\n",
       "Index: []"
      ]
     },
     "execution_count": 89,
     "metadata": {},
     "output_type": "execute_result"
    }
   ],
   "source": [
    "df.loc[df['text_'].isna()]"
   ]
  },
  {
   "cell_type": "code",
   "execution_count": 90,
   "id": "82ec0b85",
   "metadata": {},
   "outputs": [
    {
     "name": "stdout",
     "output_type": "stream",
     "text": [
      "Unnamed: 0  :  0\n",
      "category  :  0\n",
      "rating  :  0\n",
      "label  :  0\n",
      "text_  :  0\n",
      "length  :  0\n"
     ]
    }
   ],
   "source": [
    "for col in cols:\n",
    "    print(col, ' : ',df[col].isna().sum())"
   ]
  },
  {
   "cell_type": "code",
   "execution_count": 92,
   "id": "01ab0502",
   "metadata": {},
   "outputs": [],
   "source": [
    "df.to_csv('data.csv')"
   ]
  },
  {
   "cell_type": "code",
   "execution_count": null,
   "id": "52aef5ef",
   "metadata": {},
   "outputs": [],
   "source": []
  }
 ],
 "metadata": {
  "kernelspec": {
   "display_name": "Python 3 (ipykernel)",
   "language": "python",
   "name": "python3"
  },
  "language_info": {
   "codemirror_mode": {
    "name": "ipython",
    "version": 3
   },
   "file_extension": ".py",
   "mimetype": "text/x-python",
   "name": "python",
   "nbconvert_exporter": "python",
   "pygments_lexer": "ipython3",
   "version": "3.9.7"
  }
 },
 "nbformat": 4,
 "nbformat_minor": 5
}
