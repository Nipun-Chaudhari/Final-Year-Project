{
 "cells": [
  {
   "cell_type": "code",
   "execution_count": 15,
   "id": "6bb2e4e3",
   "metadata": {},
   "outputs": [
    {
     "data": {
      "text/html": [
       "<div>\n",
       "<style scoped>\n",
       "    .dataframe tbody tr th:only-of-type {\n",
       "        vertical-align: middle;\n",
       "    }\n",
       "\n",
       "    .dataframe tbody tr th {\n",
       "        vertical-align: top;\n",
       "    }\n",
       "\n",
       "    .dataframe thead th {\n",
       "        text-align: right;\n",
       "    }\n",
       "</style>\n",
       "<table border=\"1\" class=\"dataframe\">\n",
       "  <thead>\n",
       "    <tr style=\"text-align: right;\">\n",
       "      <th></th>\n",
       "      <th>Unnamed: 0</th>\n",
       "      <th>Unnamed: 0.1</th>\n",
       "      <th>category</th>\n",
       "      <th>rating</th>\n",
       "      <th>label</th>\n",
       "      <th>text_</th>\n",
       "    </tr>\n",
       "  </thead>\n",
       "  <tbody>\n",
       "    <tr>\n",
       "      <th>40427</th>\n",
       "      <td>40427</td>\n",
       "      <td>40427</td>\n",
       "      <td>Clothing_Shoes_and_Jewelry_5</td>\n",
       "      <td>4</td>\n",
       "      <td>Original</td>\n",
       "      <td>i had read some review say that thi bra ran sm...</td>\n",
       "    </tr>\n",
       "    <tr>\n",
       "      <th>40428</th>\n",
       "      <td>40428</td>\n",
       "      <td>40428</td>\n",
       "      <td>Clothing_Shoes_and_Jewelry_5</td>\n",
       "      <td>5</td>\n",
       "      <td>Fake</td>\n",
       "      <td>i wasn't sure exactli what it would be. it is ...</td>\n",
       "    </tr>\n",
       "    <tr>\n",
       "      <th>40429</th>\n",
       "      <td>40429</td>\n",
       "      <td>40429</td>\n",
       "      <td>Clothing_Shoes_and_Jewelry_5</td>\n",
       "      <td>2</td>\n",
       "      <td>Original</td>\n",
       "      <td>you can wear the hood by itself, wear it with ...</td>\n",
       "    </tr>\n",
       "    <tr>\n",
       "      <th>40430</th>\n",
       "      <td>40430</td>\n",
       "      <td>40430</td>\n",
       "      <td>Clothing_Shoes_and_Jewelry_5</td>\n",
       "      <td>1</td>\n",
       "      <td>Fake</td>\n",
       "      <td>i like noth about thi dress. the onli reason i...</td>\n",
       "    </tr>\n",
       "    <tr>\n",
       "      <th>40431</th>\n",
       "      <td>40431</td>\n",
       "      <td>40431</td>\n",
       "      <td>Clothing_Shoes_and_Jewelry_5</td>\n",
       "      <td>5</td>\n",
       "      <td>Original</td>\n",
       "      <td>i work in the wed industri and have to work lo...</td>\n",
       "    </tr>\n",
       "  </tbody>\n",
       "</table>\n",
       "</div>"
      ],
      "text/plain": [
       "       Unnamed: 0  Unnamed: 0.1                      category  rating  \\\n",
       "40427       40427         40427  Clothing_Shoes_and_Jewelry_5       4   \n",
       "40428       40428         40428  Clothing_Shoes_and_Jewelry_5       5   \n",
       "40429       40429         40429  Clothing_Shoes_and_Jewelry_5       2   \n",
       "40430       40430         40430  Clothing_Shoes_and_Jewelry_5       1   \n",
       "40431       40431         40431  Clothing_Shoes_and_Jewelry_5       5   \n",
       "\n",
       "          label                                              text_  \n",
       "40427  Original  i had read some review say that thi bra ran sm...  \n",
       "40428      Fake  i wasn't sure exactli what it would be. it is ...  \n",
       "40429  Original  you can wear the hood by itself, wear it with ...  \n",
       "40430      Fake  i like noth about thi dress. the onli reason i...  \n",
       "40431  Original  i work in the wed industri and have to work lo...  "
      ]
     },
     "execution_count": 15,
     "metadata": {},
     "output_type": "execute_result"
    }
   ],
   "source": [
    "import pandas\n",
    "df = pandas.read_csv('data.csv')\n",
    "df.tail()"
   ]
  },
  {
   "cell_type": "code",
   "execution_count": null,
   "id": "948fbdd8",
   "metadata": {},
   "outputs": [],
   "source": []
  }
 ],
 "metadata": {
  "kernelspec": {
   "display_name": "Python 3 (ipykernel)",
   "language": "python",
   "name": "python3"
  },
  "language_info": {
   "codemirror_mode": {
    "name": "ipython",
    "version": 3
   },
   "file_extension": ".py",
   "mimetype": "text/x-python",
   "name": "python",
   "nbconvert_exporter": "python",
   "pygments_lexer": "ipython3",
   "version": "3.9.7"
  }
 },
 "nbformat": 4,
 "nbformat_minor": 5
}
