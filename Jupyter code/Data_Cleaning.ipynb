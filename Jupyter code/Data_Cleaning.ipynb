{
 "cells": [
  {
   "cell_type": "code",
   "execution_count": 1,
   "id": "7360fbcc",
   "metadata": {},
   "outputs": [
    {
     "name": "stderr",
     "output_type": "stream",
     "text": [
      "[nltk_data] Downloading package wordnet to\n",
      "[nltk_data]     C:\\Users\\DELL\\AppData\\Roaming\\nltk_data...\n",
      "[nltk_data]   Package wordnet is already up-to-date!\n"
     ]
    },
    {
     "data": {
      "text/plain": [
       "True"
      ]
     },
     "execution_count": 1,
     "metadata": {},
     "output_type": "execute_result"
    }
   ],
   "source": [
    "import numpy as np\n",
    "import pandas as pd\n",
    "import seaborn as sns\n",
    "import matplotlib.pyplot as plt\n",
    "%matplotlib inline\n",
    "import warnings\n",
    "warnings.filterwarnings('ignore')\n",
    "from nltk.corpus import stopwords\n",
    "from sklearn.feature_extraction.text import TfidfTransformer, CountVectorizer\n",
    "from sklearn.metrics import classification_report, confusion_matrix\n",
    "from sklearn.model_selection import train_test_split\n",
    "import string, nltk\n",
    "from nltk import word_tokenize\n",
    "from nltk.stem import PorterStemmer\n",
    "from nltk.stem import WordNetLemmatizer\n",
    "nltk.download('wordnet')"
   ]
  },
  {
   "cell_type": "code",
   "execution_count": 2,
   "id": "f751979f",
   "metadata": {},
   "outputs": [
    {
     "name": "stderr",
     "output_type": "stream",
     "text": [
      "[nltk_data] Downloading package omw-1.4 to\n",
      "[nltk_data]     C:\\Users\\DELL\\AppData\\Roaming\\nltk_data...\n",
      "[nltk_data]   Package omw-1.4 is already up-to-date!\n",
      "[nltk_data] Downloading package punkt to\n",
      "[nltk_data]     C:\\Users\\DELL\\AppData\\Roaming\\nltk_data...\n",
      "[nltk_data]   Package punkt is already up-to-date!\n"
     ]
    },
    {
     "data": {
      "text/plain": [
       "True"
      ]
     },
     "execution_count": 2,
     "metadata": {},
     "output_type": "execute_result"
    }
   ],
   "source": [
    "nltk.download('omw-1.4')\n",
    "nltk.download('punkt')"
   ]
  },
  {
   "cell_type": "code",
   "execution_count": 3,
   "id": "350f77e1",
   "metadata": {},
   "outputs": [
    {
     "data": {
      "text/html": [
       "<div>\n",
       "<style scoped>\n",
       "    .dataframe tbody tr th:only-of-type {\n",
       "        vertical-align: middle;\n",
       "    }\n",
       "\n",
       "    .dataframe tbody tr th {\n",
       "        vertical-align: top;\n",
       "    }\n",
       "\n",
       "    .dataframe thead th {\n",
       "        text-align: right;\n",
       "    }\n",
       "</style>\n",
       "<table border=\"1\" class=\"dataframe\">\n",
       "  <thead>\n",
       "    <tr style=\"text-align: right;\">\n",
       "      <th></th>\n",
       "      <th>category</th>\n",
       "      <th>rating</th>\n",
       "      <th>label</th>\n",
       "      <th>text_</th>\n",
       "    </tr>\n",
       "  </thead>\n",
       "  <tbody>\n",
       "    <tr>\n",
       "      <th>0</th>\n",
       "      <td>Home_and_Kitchen_5</td>\n",
       "      <td>5</td>\n",
       "      <td>CG</td>\n",
       "      <td>Love this!  Well made, sturdy, and very comfor...</td>\n",
       "    </tr>\n",
       "    <tr>\n",
       "      <th>1</th>\n",
       "      <td>Home_and_Kitchen_5</td>\n",
       "      <td>5</td>\n",
       "      <td>CG</td>\n",
       "      <td>love it, a great upgrade from the original.  I...</td>\n",
       "    </tr>\n",
       "    <tr>\n",
       "      <th>2</th>\n",
       "      <td>Home_and_Kitchen_5</td>\n",
       "      <td>5</td>\n",
       "      <td>CG</td>\n",
       "      <td>This pillow saved my back. I love the look and...</td>\n",
       "    </tr>\n",
       "    <tr>\n",
       "      <th>3</th>\n",
       "      <td>Home_and_Kitchen_5</td>\n",
       "      <td>1</td>\n",
       "      <td>CG</td>\n",
       "      <td>Missing information on how to use it, but it i...</td>\n",
       "    </tr>\n",
       "    <tr>\n",
       "      <th>4</th>\n",
       "      <td>Home_and_Kitchen_5</td>\n",
       "      <td>5</td>\n",
       "      <td>CG</td>\n",
       "      <td>Very nice set. Good quality. We have had the s...</td>\n",
       "    </tr>\n",
       "  </tbody>\n",
       "</table>\n",
       "</div>"
      ],
      "text/plain": [
       "             category  rating label  \\\n",
       "0  Home_and_Kitchen_5       5    CG   \n",
       "1  Home_and_Kitchen_5       5    CG   \n",
       "2  Home_and_Kitchen_5       5    CG   \n",
       "3  Home_and_Kitchen_5       1    CG   \n",
       "4  Home_and_Kitchen_5       5    CG   \n",
       "\n",
       "                                               text_  \n",
       "0  Love this!  Well made, sturdy, and very comfor...  \n",
       "1  love it, a great upgrade from the original.  I...  \n",
       "2  This pillow saved my back. I love the look and...  \n",
       "3  Missing information on how to use it, but it i...  \n",
       "4  Very nice set. Good quality. We have had the s...  "
      ]
     },
     "execution_count": 3,
     "metadata": {},
     "output_type": "execute_result"
    }
   ],
   "source": [
    "df = pd.read_csv('datafile1.csv')\n",
    "df.head()"
   ]
  },
  {
   "cell_type": "code",
   "execution_count": 4,
   "id": "2d17e77b",
   "metadata": {},
   "outputs": [
    {
     "data": {
      "text/plain": [
       "category    0\n",
       "rating      0\n",
       "label       0\n",
       "text_       0\n",
       "dtype: int64"
      ]
     },
     "execution_count": 4,
     "metadata": {},
     "output_type": "execute_result"
    }
   ],
   "source": [
    "df.isnull().sum()"
   ]
  },
  {
   "cell_type": "code",
   "execution_count": 5,
   "id": "7928ada9",
   "metadata": {},
   "outputs": [
    {
     "name": "stdout",
     "output_type": "stream",
     "text": [
      "<class 'pandas.core.frame.DataFrame'>\n",
      "RangeIndex: 40432 entries, 0 to 40431\n",
      "Data columns (total 4 columns):\n",
      " #   Column    Non-Null Count  Dtype \n",
      "---  ------    --------------  ----- \n",
      " 0   category  40432 non-null  object\n",
      " 1   rating    40432 non-null  int64 \n",
      " 2   label     40432 non-null  object\n",
      " 3   text_     40432 non-null  object\n",
      "dtypes: int64(1), object(3)\n",
      "memory usage: 1.2+ MB\n"
     ]
    }
   ],
   "source": [
    "df.info()"
   ]
  },
  {
   "cell_type": "code",
   "execution_count": 6,
   "id": "607f8e8f",
   "metadata": {},
   "outputs": [
    {
     "data": {
      "text/html": [
       "<div>\n",
       "<style scoped>\n",
       "    .dataframe tbody tr th:only-of-type {\n",
       "        vertical-align: middle;\n",
       "    }\n",
       "\n",
       "    .dataframe tbody tr th {\n",
       "        vertical-align: top;\n",
       "    }\n",
       "\n",
       "    .dataframe thead th {\n",
       "        text-align: right;\n",
       "    }\n",
       "</style>\n",
       "<table border=\"1\" class=\"dataframe\">\n",
       "  <thead>\n",
       "    <tr style=\"text-align: right;\">\n",
       "      <th></th>\n",
       "      <th>rating</th>\n",
       "    </tr>\n",
       "  </thead>\n",
       "  <tbody>\n",
       "    <tr>\n",
       "      <th>count</th>\n",
       "      <td>40432.000000</td>\n",
       "    </tr>\n",
       "    <tr>\n",
       "      <th>mean</th>\n",
       "      <td>4.256579</td>\n",
       "    </tr>\n",
       "    <tr>\n",
       "      <th>std</th>\n",
       "      <td>1.144354</td>\n",
       "    </tr>\n",
       "    <tr>\n",
       "      <th>min</th>\n",
       "      <td>1.000000</td>\n",
       "    </tr>\n",
       "    <tr>\n",
       "      <th>25%</th>\n",
       "      <td>4.000000</td>\n",
       "    </tr>\n",
       "    <tr>\n",
       "      <th>50%</th>\n",
       "      <td>5.000000</td>\n",
       "    </tr>\n",
       "    <tr>\n",
       "      <th>75%</th>\n",
       "      <td>5.000000</td>\n",
       "    </tr>\n",
       "    <tr>\n",
       "      <th>max</th>\n",
       "      <td>5.000000</td>\n",
       "    </tr>\n",
       "  </tbody>\n",
       "</table>\n",
       "</div>"
      ],
      "text/plain": [
       "             rating\n",
       "count  40432.000000\n",
       "mean       4.256579\n",
       "std        1.144354\n",
       "min        1.000000\n",
       "25%        4.000000\n",
       "50%        5.000000\n",
       "75%        5.000000\n",
       "max        5.000000"
      ]
     },
     "execution_count": 6,
     "metadata": {},
     "output_type": "execute_result"
    }
   ],
   "source": [
    "df.describe()"
   ]
  },
  {
   "cell_type": "code",
   "execution_count": 7,
   "id": "c0117c59",
   "metadata": {},
   "outputs": [
    {
     "data": {
      "text/plain": [
       "5    24559\n",
       "4     7965\n",
       "3     3786\n",
       "1     2155\n",
       "2     1967\n",
       "Name: rating, dtype: int64"
      ]
     },
     "execution_count": 7,
     "metadata": {},
     "output_type": "execute_result"
    }
   ],
   "source": [
    "df['rating'].value_counts()"
   ]
  },
  {
   "cell_type": "code",
   "execution_count": 8,
   "id": "279c29e6",
   "metadata": {},
   "outputs": [
    {
     "data": {
      "image/png": "[encoded data removed]",
      "text/plain": [
       "<Figure size 1080x576 with 1 Axes>"
      ]
     },
     "metadata": {},
     "output_type": "display_data"
    }
   ],
   "source": [
    "plt.figure(figsize=(15,8))\n",
    "labels = df['rating'].value_counts().keys()\n",
    "values = df['rating'].value_counts().values\n",
    "explode = (0.1,0,0,0,0)\n",
    "plt.pie(values,labels=labels,explode=explode,shadow=True,autopct='%1.1f%%')\n",
    "plt.title('Rating Proportions',fontweight='bold',fontsize=40,pad=20,color='black')\n",
    "plt.show()"
   ]
  },
  {
   "cell_type": "code",
   "execution_count": 9,
   "id": "48356d82",
   "metadata": {},
   "outputs": [
    {
     "data": {
      "text/plain": [
       "'These are nice towels. Absorbs well.\\r\\nGetting ready to see if they come in gray'"
      ]
     },
     "execution_count": 9,
     "metadata": {},
     "output_type": "execute_result"
    }
   ],
   "source": [
    "df['text_'][456]"
   ]
  },
  {
   "cell_type": "code",
   "execution_count": 10,
   "id": "5973bf59",
   "metadata": {},
   "outputs": [],
   "source": [
    "def clean_text(text):\n",
    "    table = str.maketrans('', '', string.punctuation)\n",
    "    nopunc = text.translate(table)\n",
    "\n",
    "    filtered_words = [word.lower() for word in nopunc.split(' ') if word.lower() not in stopwords.words('english')]\n",
    "\n",
    "    preprocessed_text = ' '.join(filtered_words)\n",
    "\n",
    "    return preprocessed_text"
   ]
  },
  {
   "cell_type": "code",
   "execution_count": 11,
   "id": "22fbd931",
   "metadata": {},
   "outputs": [
    {
     "data": {
      "text/plain": [
       "'This vacuum is terrific, very easy to clean and very comfortable.\\r\\n\\r\\nThe only reason I gave it 4 stars is that the plastic parts are very small, and the cover is very fragile.\\r\\n\\r\\nThe only reason I gave it 4 stars is because the reason for'"
      ]
     },
     "execution_count": 11,
     "metadata": {},
     "output_type": "execute_result"
    }
   ],
   "source": [
    "df['text_'][2540]"
   ]
  },
  {
   "cell_type": "code",
   "execution_count": 12,
   "id": "23f63f5e",
   "metadata": {
    "scrolled": true
   },
   "outputs": [
    {
     "data": {
      "text/plain": [
       "40432"
      ]
     },
     "execution_count": 12,
     "metadata": {},
     "output_type": "execute_result"
    }
   ],
   "source": [
    "dim = df.shape[0]\n",
    "dim"
   ]
  },
  {
   "cell_type": "code",
   "execution_count": 13,
   "id": "521c4c1e",
   "metadata": {},
   "outputs": [],
   "source": [
    "df['text_'] = df['text_'].apply(clean_text)"
   ]
  },
  {
   "cell_type": "code",
   "execution_count": 19,
   "id": "77bb54d0",
   "metadata": {},
   "outputs": [
    {
     "data": {
      "text/plain": [
       "'nice towels absorbs well getting ready see come gray'"
      ]
     },
     "execution_count": 19,
     "metadata": {},
     "output_type": "execute_result"
    }
   ],
   "source": [
    "df['text_'][456]"
   ]
  },
  {
   "cell_type": "code",
   "execution_count": 20,
   "id": "857e513a",
   "metadata": {},
   "outputs": [],
   "source": [
    "def preprocess(text):\n",
    "    \"\"\"\n",
    "    Preprocesses the input text by tokenizing it, removing stopwords, and non-alphabetic characters.\n",
    "    \"\"\"\n",
    "    tokens = word_tokenize(text)\n",
    "    \n",
    "    stop_words = set(stopwords.words('english'))\n",
    "    \n",
    "    filtered_tokens = [word.lower() for word in tokens if word.isalpha() and len(word) > 1 and word.lower() not in stop_words]\n",
    "    \n",
    "    preprocessed_text = ' '.join(filtered_tokens)\n",
    "    \n",
    "    return preprocessed_text"
   ]
  },
  {
   "cell_type": "code",
   "execution_count": 21,
   "id": "a6cf002a",
   "metadata": {},
   "outputs": [
    {
     "data": {
      "text/plain": [
       "'vacuum terrific easy clean comfortable reason gave stars plastic parts small cover fragile reason gave stars reason'"
      ]
     },
     "execution_count": 21,
     "metadata": {},
     "output_type": "execute_result"
    }
   ],
   "source": [
    "preprocess_out = preprocess(df['text_'][2540])\n",
    "preprocess_out"
   ]
  },
  {
   "cell_type": "code",
   "execution_count": 22,
   "id": "27700c9a",
   "metadata": {},
   "outputs": [],
   "source": [
    "df['text_'] = df['text_'].apply(preprocess)"
   ]
  },
  {
   "cell_type": "code",
   "execution_count": 29,
   "id": "543c08a8",
   "metadata": {},
   "outputs": [
    {
     "data": {
      "text/plain": [
       "'vacuum terrif easi clean comfort reason gave star plastic part small cover fragil reason gave star reason'"
      ]
     },
     "execution_count": 29,
     "metadata": {},
     "output_type": "execute_result"
    }
   ],
   "source": [
    "df['text_'][2540]"
   ]
  },
  {
   "cell_type": "code",
   "execution_count": 30,
   "id": "a6822bca",
   "metadata": {},
   "outputs": [],
   "source": [
    "stemmer = PorterStemmer()\n",
    "def word_stemming(text):\n",
    "    return ' '.join([stemmer.stem(word) for word in text.split()])\n",
    "df['text_'] = df['text_'].apply(lambda x: word_stemming(x))"
   ]
  },
  {
   "cell_type": "code",
   "execution_count": 31,
   "id": "9b49c808",
   "metadata": {},
   "outputs": [
    {
     "data": {
      "text/plain": [
       "'vacuum terrif easi clean comfort reason gave star plastic part small cover fragil reason gave star reason'"
      ]
     },
     "execution_count": 31,
     "metadata": {},
     "output_type": "execute_result"
    }
   ],
   "source": [
    "df['text_'][2540]"
   ]
  },
  {
   "cell_type": "code",
   "execution_count": 32,
   "id": "786f790e",
   "metadata": {},
   "outputs": [],
   "source": [
    "lemmatizer = WordNetLemmatizer()\n",
    "def lemmatize_words(text):\n",
    "    return ' '.join([lemmatizer.lemmatize(word) for word in text.split()])\n",
    "df[\"text_\"] = df[\"text_\"].apply(lambda text: lemmatize_words(text))"
   ]
  },
  {
   "cell_type": "code",
   "execution_count": 33,
   "id": "5ade2238",
   "metadata": {},
   "outputs": [
    {
     "data": {
      "text/plain": [
       "'vacuum terrif easi clean comfort reason gave star plastic part small cover fragil reason gave star reason'"
      ]
     },
     "execution_count": 33,
     "metadata": {},
     "output_type": "execute_result"
    }
   ],
   "source": [
    "df['text_'][2540]"
   ]
  },
  {
   "cell_type": "code",
   "execution_count": 35,
   "id": "fe4f9346",
   "metadata": {},
   "outputs": [
    {
     "data": {
      "text/plain": [
       "0         love well made sturdi comfort love itveri pretti\n",
       "1             love great upgrad origin ive mine coupl year\n",
       "2                   pillow save back love look feel pillow\n",
       "3                      miss inform use great product price\n",
       "4                      nice set good qualiti set two month\n",
       "                               ...                        \n",
       "40427    read review say bra ran small order two band c...\n",
       "40428    wasnt sure exactli would littl larg small size...\n",
       "40429    wear hood wear hood wear jacket without hood s...\n",
       "40430    like noth dress reason gave star order size fi...\n",
       "40431    work wed industri work long day foot outsid he...\n",
       "Name: text_, Length: 40432, dtype: object"
      ]
     },
     "execution_count": 35,
     "metadata": {},
     "output_type": "execute_result"
    }
   ],
   "source": [
    "df['text_']"
   ]
  },
  {
   "cell_type": "code",
   "execution_count": 36,
   "id": "d896dd9c",
   "metadata": {},
   "outputs": [],
   "source": [
    "df.to_csv('data.csv')"
   ]
  }
 ],
 "metadata": {
  "kernelspec": {
   "display_name": "Python 3 (ipykernel)",
   "language": "python",
   "name": "python3"
  },
  "language_info": {
   "codemirror_mode": {
    "name": "ipython",
    "version": 3
   },
   "file_extension": ".py",
   "mimetype": "text/x-python",
   "name": "python",
   "nbconvert_exporter": "python",
   "pygments_lexer": "ipython3",
   "version": "3.9.7"
  }
 },
 "nbformat": 4,
 "nbformat_minor": 5
}
